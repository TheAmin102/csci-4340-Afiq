{
 "cells": [
  {
   "cell_type": "code",
   "execution_count": 1,
   "metadata": {},
   "outputs": [],
   "source": [
    "import pandas as pd \n",
    "# Read the CSV file into a DataFrame\n",
    "df = pd.read_csv('remove_9.csv')"
   ]
  },
  {
   "cell_type": "code",
   "execution_count": 1,
   "metadata": {},
   "outputs": [
    {
     "data": {
      "text/plain": [
       "(2758, 15)"
      ]
     },
     "execution_count": 1,
     "metadata": {},
     "output_type": "execute_result"
    }
   ],
   "source": [
    "import pandas as pd \n",
    "# Read the CSV file into a DataFrame\n",
    "df = pd.read_csv('remove_9.csv')\n",
    "\n",
    "df.shape"
   ]
  },
  {
   "cell_type": "markdown",
   "metadata": {},
   "source": [
    "select feature based on average they appear\n",
    "\n",
    "SQFT\t6\n",
    "WGTADJ\t6\n",
    "LOCATION\t5\n",
    "REGION\t5\n",
    "\n",
    "SECTIONS\t4\n",
    "BEDROOMS\t3\n",
    "WEIGHT\t3\n",
    "\n",
    "\n",
    "FOOTINGS\t2\n",
    "SECURED\t2\n",
    "STATUS\t2\n",
    "TITLED\t1"
   ]
  },
  {
   "cell_type": "code",
   "execution_count": 2,
   "metadata": {},
   "outputs": [
    {
     "name": "stdout",
     "output_type": "stream",
     "text": [
      "['WEIGHT', 'STATUS', 'FINALDEST', 'FOOTINGS', 'LEASE', 'LOCATION', 'REGION', 'PIERS', 'SECURED', 'TITLED', 'SECTIONS', 'PRICE', 'SQFT', 'BEDROOMS', 'WGTADJ']\n"
     ]
    }
   ],
   "source": [
    "# List all columns in the DataFrame\n",
    "print(df.columns.tolist())"
   ]
  },
  {
   "cell_type": "markdown",
   "metadata": {},
   "source": [
    "drop these features \n",
    "['WEIGHT', 'STATUS', 'FINALDEST', 'FOOTINGS', 'LEASE', '', '', 'PIERS', 'SECURED', 'TITLED', 'SECTIONS', '', '', 'BEDROOMS', '']"
   ]
  },
  {
   "cell_type": "code",
   "execution_count": 3,
   "metadata": {},
   "outputs": [
    {
     "name": "stdout",
     "output_type": "stream",
     "text": [
      "      LOCATION  REGION   PRICE  SQFT  WGTADJ\n",
      "0            1       3   90000  1200  0.9369\n",
      "1            2       3   82000  1200  0.9369\n",
      "2            3       3   68000  1100  0.9369\n",
      "3            2       4   90000  1200  0.9369\n",
      "4            1       4   90000  1200  0.9369\n",
      "...        ...     ...     ...   ...     ...\n",
      "2753         2       4  140000  1400  1.0439\n",
      "2754         1       1  150000  1600  1.0439\n",
      "2755         1       1  150000  1600  1.0439\n",
      "2756         1       1  220000  1500  1.0439\n",
      "2757         3       2  110000  1100  1.0439\n",
      "\n",
      "[2758 rows x 5 columns]\n"
     ]
    }
   ],
   "source": [
    "# Delete multiple columns\n",
    "columns_to_drop = ['WEIGHT', 'STATUS', 'FINALDEST', 'FOOTINGS', 'LEASE', 'PIERS', 'SECURED', 'TITLED', 'SECTIONS', 'BEDROOMS']\n",
    "df = df.drop(columns_to_drop, axis=1)\n",
    "\n",
    "# Print the DataFrame\n",
    "print(df)"
   ]
  },
  {
   "cell_type": "code",
   "execution_count": 4,
   "metadata": {},
   "outputs": [],
   "source": [
    "# Save the modified DataFrame to a new CSV file\n",
    "df.to_csv('feature_selection2.csv', index=False)"
   ]
  },
  {
   "cell_type": "code",
   "execution_count": 5,
   "metadata": {},
   "outputs": [
    {
     "name": "stdout",
     "output_type": "stream",
     "text": [
      "      LOCATION    REGION      SQFT    WGTADJ   PRICE\n",
      "0    -0.969025  0.304856 -0.643077 -2.458163   90000\n",
      "1     0.158166  0.304856 -0.643077 -2.458163   82000\n",
      "2     1.285358  0.304856 -0.870927 -2.458163   68000\n",
      "3     0.158166  1.232883 -0.643077 -2.458163   90000\n",
      "4    -0.969025  1.232883 -0.643077 -2.458163   90000\n",
      "...        ...       ...       ...       ...     ...\n",
      "2753  0.158166  1.232883 -0.187377  0.241780  140000\n",
      "2754 -0.969025 -1.551198  0.268323  0.241780  150000\n",
      "2755 -0.969025 -1.551198  0.268323  0.241780  150000\n",
      "2756 -0.969025 -1.551198  0.040473  0.241780  220000\n",
      "2757  1.285358 -0.623171 -0.870927  0.241780  110000\n",
      "\n",
      "[2758 rows x 5 columns]\n"
     ]
    }
   ],
   "source": [
    "import pandas as pd\n",
    "from sklearn.preprocessing import StandardScaler\n",
    "\n",
    "# Read the CSV file into a DataFrame\n",
    "df = pd.read_csv('feature_selection2.csv')\n",
    "\n",
    "# Separate the target variable\n",
    "target_variable = 'PRICE'\n",
    "y = df[target_variable]\n",
    "X = df.drop(target_variable, axis=1)\n",
    "\n",
    "# Create a scaler object\n",
    "scaler = StandardScaler()\n",
    "\n",
    "# Fit the scaler to the features (excluding the target variable)\n",
    "scaler.fit(X)\n",
    "\n",
    "# Transform the features using the scaler\n",
    "X_scaled = scaler.transform(X)\n",
    "\n",
    "# Convert the scaled features back into a DataFrame\n",
    "X_scaled = pd.DataFrame(X_scaled, columns=X.columns)\n",
    "\n",
    "# Optional: Combine the scaled features with the target variable\n",
    "df_scaled = pd.concat([X_scaled, y], axis=1)\n",
    "\n",
    "# Print or save the scaled DataFrame\n",
    "print(df_scaled)  # Or use \n",
    "df_scaled.to_csv('scaled_features2.csv', index=False) \n"
   ]
  },
  {
   "cell_type": "code",
   "execution_count": 6,
   "metadata": {},
   "outputs": [],
   "source": [
    "import pandas as pd\n",
    "# Read the CSV file into a DataFrame\n",
    "df = pd.read_csv('scaled_features2.csv')"
   ]
  },
  {
   "cell_type": "code",
   "execution_count": 7,
   "metadata": {},
   "outputs": [
    {
     "name": "stdout",
     "output_type": "stream",
     "text": [
      "Root Mean Squared Error (RMSE): 35327.71\n",
      "Relative Absolute Error (RAE): 23734.47\n",
      "Mean Absolute Percentage Error (MAPE): 17.78%\n",
      "Root Mean Squared Logarithmic Error (RMSLE): 0.23\n"
     ]
    }
   ],
   "source": [
    "import pandas as pd\n",
    "from sklearn.model_selection import train_test_split\n",
    "from sklearn.linear_model import Lasso\n",
    "from xgboost import XGBRegressor\n",
    "from sklearn.metrics import mean_squared_error, mean_absolute_error\n",
    "import numpy as np\n",
    "\n",
    "\n",
    "# Assuming 'PRICE' is the target variable\n",
    "target_variable = 'PRICE'\n",
    "\n",
    "# Extract features and target variable\n",
    "X = df.drop(target_variable, axis=1)\n",
    "y = df[target_variable]\n",
    "\n",
    "# Split the data into training and testing sets\n",
    "X_train, X_test, y_train, y_test = train_test_split(X, y, test_size=0.2, random_state=42)\n",
    "\n",
    "# Initialize the Lasso Regressor\n",
    "lasso_regressor = Lasso(alpha=0.01)  # You may need to tune the alpha parameter\n",
    "\n",
    "# Fit the Lasso model\n",
    "lasso_regressor.fit(X_train, y_train)\n",
    "\n",
    "# Predict on the test set using Lasso\n",
    "lasso_pred = lasso_regressor.predict(X_test)\n",
    "\n",
    "# Initialize the XGBoost Regressor\n",
    "xgb_regressor = XGBRegressor(n_estimators=100, random_state=42)\n",
    "\n",
    "# Fit the XGBoost model\n",
    "xgb_regressor.fit(X_train, y_train)\n",
    "\n",
    "# Predict on the test set using XGBoost\n",
    "xgb_pred = xgb_regressor.predict(X_test)\n",
    "\n",
    "# Set the weights for the hybrid model\n",
    "lasso_weight = 0.65\n",
    "xgb_weight = 0.35\n",
    "\n",
    "# Combine predictions with weights\n",
    "hybrid_pred = lasso_weight * lasso_pred + xgb_weight * xgb_pred\n",
    "\n",
    "# Calculate metrics for the hybrid model\n",
    "rmse = np.sqrt(mean_squared_error(y_test, hybrid_pred))\n",
    "rae = mean_absolute_error(y_test, hybrid_pred)\n",
    "mape = np.mean(np.abs((y_test - hybrid_pred) / y_test)) * 100\n",
    "rmsle = np.sqrt(np.mean(np.power(np.log1p(y_test) - np.log1p(hybrid_pred), 2)))\n",
    "\n",
    "# Print the results\n",
    "print(\"Root Mean Squared Error (RMSE): {:.2f}\".format(rmse))\n",
    "print(\"Relative Absolute Error (RAE): {:.2f}\".format(rae))\n",
    "print(\"Mean Absolute Percentage Error (MAPE): {:.2f}%\".format(mape))\n",
    "print(\"Root Mean Squared Logarithmic Error (RMSLE): {:.2f}\".format(rmsle))\n"
   ]
  },
  {
   "cell_type": "code",
   "execution_count": 8,
   "metadata": {},
   "outputs": [
    {
     "name": "stdout",
     "output_type": "stream",
     "text": [
      "Root Mean Squared Error (RMSE): 35288.55\n",
      "Relative Absolute Error (RAE): 23506.73\n",
      "Mean Absolute Percentage Error (MAPE): 17.04%\n",
      "Root Mean Squared Logarithmic Error (RMSLE): 0.23\n"
     ]
    }
   ],
   "source": [
    "import pandas as pd\n",
    "from sklearn.model_selection import train_test_split\n",
    "from sklearn.linear_model import Lasso\n",
    "from xgboost import XGBRegressor\n",
    "from sklearn.metrics import mean_squared_error, mean_absolute_error\n",
    "import numpy as np\n",
    "\n",
    "\n",
    "# Assuming 'PRICE' is the target variable\n",
    "target_variable = 'PRICE'\n",
    "\n",
    "# Extract features and target variable\n",
    "X = df.drop(target_variable, axis=1)\n",
    "y = df[target_variable]\n",
    "\n",
    "# Split the data into training and testing sets\n",
    "X_train, X_test, y_train, y_test = train_test_split(X, y, test_size=0.45, random_state=42)\n",
    "\n",
    "# Initialize the Lasso Regressor\n",
    "lasso_regressor = Lasso(alpha=0.01)  # You may need to tune the alpha parameter\n",
    "\n",
    "# Fit the Lasso model\n",
    "lasso_regressor.fit(X_train, y_train)\n",
    "\n",
    "# Predict on the test set using Lasso\n",
    "lasso_pred = lasso_regressor.predict(X_test)\n",
    "\n",
    "# Initialize the XGBoost Regressor\n",
    "xgb_regressor = XGBRegressor(n_estimators=100, random_state=42)\n",
    "\n",
    "# Fit the XGBoost model\n",
    "xgb_regressor.fit(X_train, y_train)\n",
    "\n",
    "# Predict on the test set using XGBoost\n",
    "xgb_pred = xgb_regressor.predict(X_test)\n",
    "\n",
    "# Set the weights for the hybrid model\n",
    "lasso_weight = 0.65\n",
    "xgb_weight = 0.35\n",
    "\n",
    "# Combine predictions with weights\n",
    "hybrid_pred = lasso_weight * lasso_pred + xgb_weight * xgb_pred\n",
    "\n",
    "# Calculate metrics for the hybrid model\n",
    "rmse = np.sqrt(mean_squared_error(y_test, hybrid_pred))\n",
    "rae = mean_absolute_error(y_test, hybrid_pred)\n",
    "mape = np.mean(np.abs((y_test - hybrid_pred) / y_test)) * 100\n",
    "rmsle = np.sqrt(np.mean(np.power(np.log1p(y_test) - np.log1p(hybrid_pred), 2)))\n",
    "\n",
    "# Print the results\n",
    "print(\"Root Mean Squared Error (RMSE): {:.2f}\".format(rmse))\n",
    "print(\"Relative Absolute Error (RAE): {:.2f}\".format(rae))\n",
    "print(\"Mean Absolute Percentage Error (MAPE): {:.2f}%\".format(mape))\n",
    "print(\"Root Mean Squared Logarithmic Error (RMSLE): {:.2f}\".format(rmsle))\n"
   ]
  },
  {
   "cell_type": "code",
   "execution_count": 9,
   "metadata": {},
   "outputs": [
    {
     "name": "stdout",
     "output_type": "stream",
     "text": [
      "Root Mean Squared Error (RMSE): 34451.14\n",
      "Relative Absolute Error (RAE): 23391.73\n",
      "Mean Absolute Percentage Error (MAPE): 17.31%\n",
      "Root Mean Squared Logarithmic Error (RMSLE): 0.23\n"
     ]
    }
   ],
   "source": [
    "import pandas as pd\n",
    "from sklearn.model_selection import train_test_split\n",
    "from sklearn.linear_model import Lasso\n",
    "from xgboost import XGBRegressor\n",
    "from sklearn.metrics import mean_squared_error, mean_absolute_error\n",
    "import numpy as np\n",
    "\n",
    "\n",
    "# Assuming 'PRICE' is the target variable\n",
    "target_variable = 'PRICE'\n",
    "\n",
    "# Extract features and target variable\n",
    "X = df.drop(target_variable, axis=1)\n",
    "y = df[target_variable]\n",
    "\n",
    "# Split the data into training and testing sets\n",
    "X_train, X_test, y_train, y_test = train_test_split(X, y, test_size=0.75, random_state=42)\n",
    "\n",
    "# Initialize the Lasso Regressor\n",
    "lasso_regressor = Lasso(alpha=0.01)  # You may need to tune the alpha parameter\n",
    "\n",
    "# Fit the Lasso model\n",
    "lasso_regressor.fit(X_train, y_train)\n",
    "\n",
    "# Predict on the test set using Lasso\n",
    "lasso_pred = lasso_regressor.predict(X_test)\n",
    "\n",
    "# Initialize the XGBoost Regressor\n",
    "xgb_regressor = XGBRegressor(n_estimators=100, random_state=42)\n",
    "\n",
    "# Fit the XGBoost model\n",
    "xgb_regressor.fit(X_train, y_train)\n",
    "\n",
    "# Predict on the test set using XGBoost\n",
    "xgb_pred = xgb_regressor.predict(X_test)\n",
    "\n",
    "# Set the weights for the hybrid model\n",
    "lasso_weight = 0.65\n",
    "xgb_weight = 0.35\n",
    "\n",
    "# Combine predictions with weights\n",
    "hybrid_pred = lasso_weight * lasso_pred + xgb_weight * xgb_pred\n",
    "\n",
    "# Calculate metrics for the hybrid model\n",
    "rmse = np.sqrt(mean_squared_error(y_test, hybrid_pred))\n",
    "rae = mean_absolute_error(y_test, hybrid_pred)\n",
    "mape = np.mean(np.abs((y_test - hybrid_pred) / y_test)) * 100\n",
    "rmsle = np.sqrt(np.mean(np.power(np.log1p(y_test) - np.log1p(hybrid_pred), 2)))\n",
    "\n",
    "# Print the results\n",
    "print(\"Root Mean Squared Error (RMSE): {:.2f}\".format(rmse))\n",
    "print(\"Relative Absolute Error (RAE): {:.2f}\".format(rae))\n",
    "print(\"Mean Absolute Percentage Error (MAPE): {:.2f}%\".format(mape))\n",
    "print(\"Root Mean Squared Logarithmic Error (RMSLE): {:.2f}\".format(rmsle))\n"
   ]
  },
  {
   "cell_type": "code",
   "execution_count": null,
   "metadata": {},
   "outputs": [],
   "source": []
  },
  {
   "cell_type": "markdown",
   "metadata": {},
   "source": [
    "linear regression "
   ]
  },
  {
   "cell_type": "code",
   "execution_count": 14,
   "metadata": {},
   "outputs": [
    {
     "name": "stdout",
     "output_type": "stream",
     "text": [
      "Root Mean Squared Error (RMSE): 37549.51\n",
      "Relative Absolute Error (RAE): 25864.00\n",
      "Mean Absolute Percentage Error (MAPE): 19.61%\n",
      "Root Mean Squared Logarithmic Error (RMSLE): 0.25\n"
     ]
    }
   ],
   "source": [
    "import pandas as pd\n",
    "from sklearn.model_selection import train_test_split\n",
    "from sklearn.linear_model import LinearRegression\n",
    "from sklearn.metrics import mean_squared_error, mean_absolute_error\n",
    "import numpy as np\n",
    "\n",
    "# Read the CSV file\n",
    "df = pd.read_csv('scaled_features2.csv')\n",
    "\n",
    "# Assuming 'PRICE' is the target variable\n",
    "target_variable = 'PRICE'\n",
    "\n",
    "# Extract features and target variable\n",
    "X = df.drop(target_variable, axis=1)\n",
    "y = df[target_variable]\n",
    "\n",
    "# Split the data into training and testing sets\n",
    "X_train, X_test, y_train, y_test = train_test_split(X, y, test_size=0.2, random_state=42)\n",
    "\n",
    "# Initialize the Linear Regression model\n",
    "linear_regressor = LinearRegression()\n",
    "\n",
    "# Fit the model\n",
    "linear_regressor.fit(X_train, y_train)\n",
    "\n",
    "# Predict on the test set\n",
    "y_pred = linear_regressor.predict(X_test)\n",
    "\n",
    "# Calculate metrics\n",
    "rmse = np.sqrt(mean_squared_error(y_test, y_pred))\n",
    "rae = mean_absolute_error(y_test, y_pred)\n",
    "mape = np.mean(np.abs((y_test - y_pred) / y_test)) * 100\n",
    "rmsle = np.sqrt(np.mean(np.power(np.log1p(y_test) - np.log1p(y_pred), 2)))\n",
    "\n",
    "# Print the results\n",
    "print(\"Root Mean Squared Error (RMSE): {:.2f}\".format(rmse))\n",
    "print(\"Relative Absolute Error (RAE): {:.2f}\".format(rae))\n",
    "print(\"Mean Absolute Percentage Error (MAPE): {:.2f}%\".format(mape))\n",
    "print(\"Root Mean Squared Logarithmic Error (RMSLE): {:.2f}\".format(rmsle))\n"
   ]
  },
  {
   "cell_type": "code",
   "execution_count": 15,
   "metadata": {},
   "outputs": [
    {
     "name": "stdout",
     "output_type": "stream",
     "text": [
      "Root Mean Squared Error (RMSE): 37549.51\n",
      "Relative Absolute Error (RAE): 25864.00\n",
      "Mean Absolute Percentage Error (MAPE): 19.61%\n",
      "Root Mean Squared Logarithmic Error (RMSLE): 0.25\n"
     ]
    }
   ],
   "source": [
    "import pandas as pd\n",
    "from sklearn.model_selection import train_test_split\n",
    "from sklearn.linear_model import Ridge\n",
    "from sklearn.metrics import mean_squared_error, mean_absolute_error\n",
    "import numpy as np\n",
    "\n",
    "# Read the CSV file\n",
    "df = pd.read_csv('scaled_features2.csv')\n",
    "\n",
    "# Assuming 'PRICE' is the target variable\n",
    "target_variable = 'PRICE'\n",
    "\n",
    "# Extract features and target variable\n",
    "X = df.drop(target_variable, axis=1)\n",
    "y = df[target_variable]\n",
    "\n",
    "# Split the data into training and testing sets\n",
    "X_train, X_test, y_train, y_test = train_test_split(X, y, test_size=0.2, random_state=42)\n",
    "\n",
    "# Initialize the Ridge Regression model\n",
    "ridge_regressor = Ridge(alpha=1.0)  # Set the regularization strength (alpha)\n",
    "\n",
    "# Fit the model\n",
    "linear_regressor.fit(X_train, y_train)\n",
    "\n",
    "# Predict on the test set\n",
    "y_pred = linear_regressor.predict(X_test)\n",
    "\n",
    "# Calculate metrics\n",
    "rmse = np.sqrt(mean_squared_error(y_test, y_pred))\n",
    "rae = mean_absolute_error(y_test, y_pred)\n",
    "mape = np.mean(np.abs((y_test - y_pred) / y_test)) * 100\n",
    "rmsle = np.sqrt(np.mean(np.power(np.log1p(y_test) - np.log1p(y_pred), 2)))\n",
    "\n",
    "# Print the results\n",
    "print(\"Root Mean Squared Error (RMSE): {:.2f}\".format(rmse))\n",
    "print(\"Relative Absolute Error (RAE): {:.2f}\".format(rae))\n",
    "print(\"Mean Absolute Percentage Error (MAPE): {:.2f}%\".format(mape))\n",
    "print(\"Root Mean Squared Logarithmic Error (RMSLE): {:.2f}\".format(rmsle))\n",
    "\n"
   ]
  },
  {
   "cell_type": "markdown",
   "metadata": {},
   "source": [
    "lasso "
   ]
  },
  {
   "cell_type": "code",
   "execution_count": 16,
   "metadata": {},
   "outputs": [
    {
     "name": "stdout",
     "output_type": "stream",
     "text": [
      "Root Mean Squared Error (RMSE): 37549.51\n",
      "Relative Absolute Error (RAE): 25864.00\n",
      "Mean Absolute Percentage Error (MAPE): 19.61%\n",
      "Root Mean Squared Logarithmic Error (RMSLE): 0.25\n"
     ]
    }
   ],
   "source": [
    "import pandas as pd\n",
    "from sklearn.model_selection import train_test_split\n",
    "from sklearn.linear_model import Lasso\n",
    "from sklearn.metrics import mean_squared_error, mean_absolute_error\n",
    "import numpy as np\n",
    "\n",
    "# Read the CSV file\n",
    "df = pd.read_csv('scaled_features2.csv')\n",
    "\n",
    "# Assuming 'PRICE' is the target variable\n",
    "target_variable = 'PRICE'\n",
    "\n",
    "# Extract features and target variable\n",
    "X = df.drop(target_variable, axis=1)\n",
    "y = df[target_variable]\n",
    "\n",
    "# Split the data into training and testing sets\n",
    "X_train, X_test, y_train, y_test = train_test_split(X, y, test_size=0.2, random_state=42)\n",
    "\n",
    "\n",
    "# Initialize the LASSO Regression model\n",
    "lasso_regressor = Lasso(alpha=0.1)  # Set the regularization strength (alpha)\n",
    "\n",
    "# Fit the model\n",
    "linear_regressor.fit(X_train, y_train)\n",
    "\n",
    "# Predict on the test set\n",
    "y_pred = linear_regressor.predict(X_test)\n",
    "\n",
    "# Calculate metrics\n",
    "rmse = np.sqrt(mean_squared_error(y_test, y_pred))\n",
    "rae = mean_absolute_error(y_test, y_pred)\n",
    "mape = np.mean(np.abs((y_test - y_pred) / y_test)) * 100\n",
    "rmsle = np.sqrt(np.mean(np.power(np.log1p(y_test) - np.log1p(y_pred), 2)))\n",
    "\n",
    "# Print the results\n",
    "print(\"Root Mean Squared Error (RMSE): {:.2f}\".format(rmse))\n",
    "print(\"Relative Absolute Error (RAE): {:.2f}\".format(rae))\n",
    "print(\"Mean Absolute Percentage Error (MAPE): {:.2f}%\".format(mape))\n",
    "print(\"Root Mean Squared Logarithmic Error (RMSLE): {:.2f}\".format(rmsle))"
   ]
  },
  {
   "cell_type": "markdown",
   "metadata": {},
   "source": [
    "Lasso"
   ]
  },
  {
   "cell_type": "code",
   "execution_count": 10,
   "metadata": {},
   "outputs": [
    {
     "name": "stdout",
     "output_type": "stream",
     "text": [
      "Root Mean Squared Error (RMSE): 37549.52\n",
      "Relative Absolute Error (RAE): 25864.00\n",
      "Mean Absolute Percentage Error (MAPE): 19.61%\n",
      "Root Mean Squared Logarithmic Error (RMSLE): 0.25\n"
     ]
    }
   ],
   "source": [
    "import pandas as pd\n",
    "from sklearn.model_selection import train_test_split\n",
    "from sklearn.linear_model import Lasso\n",
    "from sklearn.metrics import mean_squared_error, mean_absolute_error\n",
    "import numpy as np\n",
    "\n",
    "# Read the CSV file\n",
    "df = pd.read_csv('scaled_features2.csv')\n",
    "\n",
    "# Assuming 'PRICE' is the target variable\n",
    "target_variable = 'PRICE'\n",
    "\n",
    "# Extract features and target variable\n",
    "X = df.drop(target_variable, axis=1)\n",
    "y = df[target_variable]\n",
    "\n",
    "# Split the data into training and testing sets\n",
    "X_train, X_test, y_train, y_test = train_test_split(X, y, test_size=0.2, random_state=42)\n",
    "\n",
    "# Initialize the LASSO Regression model\n",
    "lasso_regressor = Lasso(alpha=0.1)  # Set the regularization strength (alpha)\n",
    "\n",
    "# Fit the LASSO model\n",
    "lasso_regressor.fit(X_train, y_train)\n",
    "\n",
    "# Predict on the test set\n",
    "y_pred = lasso_regressor.predict(X_test)\n",
    "\n",
    "# Calculate metrics\n",
    "rmse = np.sqrt(mean_squared_error(y_test, y_pred))\n",
    "rae = mean_absolute_error(y_test, y_pred)\n",
    "mape = np.mean(np.abs((y_test - y_pred) / y_test)) * 100\n",
    "rmsle = np.sqrt(np.mean(np.power(np.log1p(y_test) - np.log1p(y_pred), 2)))\n",
    "\n",
    "# Print the results\n",
    "print(\"Root Mean Squared Error (RMSE): {:.2f}\".format(rmse))\n",
    "print(\"Relative Absolute Error (RAE): {:.2f}\".format(rae))\n",
    "print(\"Mean Absolute Percentage Error (MAPE): {:.2f}%\".format(mape))\n",
    "print(\"Root Mean Squared Logarithmic Error (RMSLE): {:.2f}\".format(rmsle))\n"
   ]
  },
  {
   "cell_type": "markdown",
   "metadata": {},
   "source": [
    "Ridge"
   ]
  },
  {
   "cell_type": "code",
   "execution_count": 12,
   "metadata": {},
   "outputs": [
    {
     "name": "stdout",
     "output_type": "stream",
     "text": [
      "Root Mean Squared Error (RMSE): 37549.74\n",
      "Relative Absolute Error (RAE): 25864.81\n",
      "Mean Absolute Percentage Error (MAPE): 19.61%\n",
      "Root Mean Squared Logarithmic Error (RMSLE): 0.25\n"
     ]
    }
   ],
   "source": [
    "import pandas as pd\n",
    "from sklearn.model_selection import train_test_split\n",
    "from sklearn.linear_model import Ridge\n",
    "from sklearn.metrics import mean_squared_error, mean_absolute_error\n",
    "import numpy as np\n",
    "\n",
    "# Read the CSV file\n",
    "df = pd.read_csv('scaled_features2.csv')\n",
    "\n",
    "# Assuming 'PRICE' is the target variable\n",
    "target_variable = 'PRICE'\n",
    "\n",
    "# Extract features and target variable\n",
    "X = df.drop(target_variable, axis=1)\n",
    "y = df[target_variable]\n",
    "\n",
    "# Split the data into training and testing sets\n",
    "X_train, X_test, y_train, y_test = train_test_split(X, y, test_size=0.2, random_state=42)\n",
    "\n",
    "# Initialize the Ridge Regression model\n",
    "ridge_regressor = Ridge(alpha=1.0)  # Set the regularization strength (alpha)\n",
    "\n",
    "# Fit the Ridge model\n",
    "ridge_regressor.fit(X_train, y_train)\n",
    "\n",
    "# Predict on the test set\n",
    "y_pred = ridge_regressor.predict(X_test)\n",
    "\n",
    "# Calculate metrics\n",
    "rmse = np.sqrt(mean_squared_error(y_test, y_pred))\n",
    "rae = mean_absolute_error(y_test, y_pred)\n",
    "mape = np.mean(np.abs((y_test - y_pred) / y_test)) * 100\n",
    "rmsle = np.sqrt(np.mean(np.power(np.log1p(y_test) - np.log1p(y_pred), 2)))\n",
    "\n",
    "# Print the results\n",
    "print(\"Root Mean Squared Error (RMSE): {:.2f}\".format(rmse))\n",
    "print(\"Relative Absolute Error (RAE): {:.2f}\".format(rae))\n",
    "print(\"Mean Absolute Percentage Error (MAPE): {:.2f}%\".format(mape))\n",
    "print(\"Root Mean Squared Logarithmic Error (RMSLE): {:.2f}\".format(rmsle))"
   ]
  },
  {
   "cell_type": "code",
   "execution_count": null,
   "metadata": {},
   "outputs": [],
   "source": []
  }
 ],
 "metadata": {
  "kernelspec": {
   "display_name": "Python 3",
   "language": "python",
   "name": "python3"
  },
  "language_info": {
   "codemirror_mode": {
    "name": "ipython",
    "version": 3
   },
   "file_extension": ".py",
   "mimetype": "text/x-python",
   "name": "python",
   "nbconvert_exporter": "python",
   "pygments_lexer": "ipython3",
   "version": "3.11.7"
  }
 },
 "nbformat": 4,
 "nbformat_minor": 2
}

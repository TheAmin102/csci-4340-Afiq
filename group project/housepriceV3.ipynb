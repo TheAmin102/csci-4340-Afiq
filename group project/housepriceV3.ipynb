{
 "cells": [
  {
   "cell_type": "code",
   "execution_count": 8,
   "metadata": {},
   "outputs": [
    {
     "data": {
      "text/plain": [
       "<bound method NDFrame.describe of         PRICE   WEIGHT    SQFT  FINALDEST  LEASE  BEDROOMS  STATUS  REGION  \\\n",
       "0     90000.0  69.1571  1200.0        1.0    2.0       3.0     2.0     3.0   \n",
       "1     82000.0  69.1571  1200.0        1.0    2.0       3.0     2.0     3.0   \n",
       "2     68000.0  69.1571  1100.0        1.0    2.0       3.0     2.0     3.0   \n",
       "3     90000.0  18.5789  1200.0        1.0    2.0       3.0     2.0     4.0   \n",
       "4     90000.0  18.5789  1200.0        1.0    2.0       3.0     2.0     4.0   \n",
       "...       ...      ...     ...        ...    ...       ...     ...     ...   \n",
       "4525      9.0   8.0368     9.0        9.0    9.0       9.0     3.0     5.0   \n",
       "4526      9.0  21.2679     9.0        9.0    9.0       9.0     3.0     5.0   \n",
       "4527      9.0  21.2679     9.0        9.0    9.0       9.0     3.0     5.0   \n",
       "4528      9.0   5.9000     9.0        9.0    9.0       9.0     3.0     5.0   \n",
       "4529      9.0   5.9000     9.0        9.0    9.0       9.0     3.0     5.0   \n",
       "\n",
       "      TITLED  SECURED  LOCATION  PIERS  \n",
       "0        2.0      1.0       1.0    1.0  \n",
       "1        2.0      1.0       2.0    1.0  \n",
       "2        2.0      1.0       3.0    1.0  \n",
       "3        1.0      1.0       2.0    1.0  \n",
       "4        2.0      2.0       1.0    3.0  \n",
       "...      ...      ...       ...    ...  \n",
       "4525     9.0      9.0       9.0    9.0  \n",
       "4526     9.0      9.0       9.0    9.0  \n",
       "4527     9.0      9.0       9.0    9.0  \n",
       "4528     9.0      9.0       9.0    9.0  \n",
       "4529     9.0      9.0       9.0    9.0  \n",
       "\n",
       "[4530 rows x 12 columns]>"
      ]
     },
     "execution_count": 8,
     "metadata": {},
     "output_type": "execute_result"
    }
   ],
   "source": [
    "import pandas as pd\n",
    "\n",
    "# Read the CSV file into a DataFrame\n",
    "df = pd.read_csv(\"puf2022_modified.csv\")\n",
    "\n",
    "df.describe\n"
   ]
  },
  {
   "cell_type": "code",
   "execution_count": 9,
   "metadata": {},
   "outputs": [
    {
     "name": "stdout",
     "output_type": "stream",
     "text": [
      "The scaled data is:\n",
      "        WEIGHT      SQFT  FINALDEST     LEASE  BEDROOMS    STATUS    REGION  \\\n",
      "0     2.600116 -0.531401  -0.431248 -0.083839  0.216491  0.843458  0.270265   \n",
      "1     2.600116 -0.531401  -0.431248 -0.083839  0.216491  0.843458  0.270265   \n",
      "2     2.600116 -0.739204  -0.431248 -0.083839  0.216491  0.843458  0.270265   \n",
      "3    -0.176516 -0.531401  -0.431248 -0.083839  0.216491  0.843458  1.211312   \n",
      "4    -0.176516 -0.531401  -0.431248 -0.083839  0.216491  0.843458  1.211312   \n",
      "...        ...       ...        ...       ...       ...       ...       ...   \n",
      "4525 -0.755254 -3.006341   6.583312  6.968014  5.378101  2.716430  2.152358   \n",
      "4526 -0.028896 -3.006341   6.583312  6.968014  5.378101  2.716430  2.152358   \n",
      "4527 -0.028896 -3.006341   6.583312  6.968014  5.378101  2.716430  2.152358   \n",
      "4528 -0.872559 -3.006341   6.583312  6.968014  5.378101  2.716430  2.152358   \n",
      "4529 -0.872559 -3.006341   6.583312  6.968014  5.378101  2.716430  2.152358   \n",
      "\n",
      "        TITLED   SECURED  LOCATION     PIERS    PRICE  \n",
      "0    -0.695312 -0.715285 -0.971047 -0.745714  90000.0  \n",
      "1    -0.695312 -0.715285 -0.686737 -0.745714  82000.0  \n",
      "2    -0.695312 -0.715285 -0.402427 -0.745714  68000.0  \n",
      "3    -0.983436 -0.715285 -0.686737 -0.745714  90000.0  \n",
      "4    -0.695312 -0.460809 -0.971047 -0.232132  90000.0  \n",
      "...        ...       ...       ...       ...      ...  \n",
      "4525  1.321551  1.320521  1.303432  1.308613      9.0  \n",
      "4526  1.321551  1.320521  1.303432  1.308613      9.0  \n",
      "4527  1.321551  1.320521  1.303432  1.308613      9.0  \n",
      "4528  1.321551  1.320521  1.303432  1.308613      9.0  \n",
      "4529  1.321551  1.320521  1.303432  1.308613      9.0  \n",
      "\n",
      "[4530 rows x 12 columns]\n"
     ]
    }
   ],
   "source": [
    "import pandas as pd\n",
    "from sklearn.preprocessing import StandardScaler\n",
    "\n",
    "# Assuming 'target_col' is the name of your target variable\n",
    "target_col = 'PRICE'  # Replace with the actual column name\n",
    "\n",
    "# Separate features and target\n",
    "X = df.drop(target_col, axis=1)  # Features\n",
    "y = df[target_col]  # Target variable\n",
    "\n",
    "# Create a scaler object\n",
    "scaler = StandardScaler()\n",
    "\n",
    "# Fit the scaler only on the features\n",
    "scaler.fit(X)\n",
    "\n",
    "# Scale the features\n",
    "scaled_features = scaler.transform(X)\n",
    "\n",
    "# Combine scaled features with the unscaled target variable\n",
    "scaled_df = pd.DataFrame(scaled_features, columns=X.columns)\n",
    "scaled_df[target_col] = y  # Add back the target column\n",
    "\n",
    "# Print the scaled data\n",
    "print(f'The scaled data is:\\n{scaled_df}')\n"
   ]
  },
  {
   "cell_type": "code",
   "execution_count": 10,
   "metadata": {},
   "outputs": [],
   "source": [
    "#from sklearn.preprocessing import RobustScaler\n",
    "\n",
    "# Split the data into predictors (X) and target (y)\n",
    "#X = df.drop(columns=['PRICE'])\n",
    "#y = df['PRICE']\n",
    "\n",
    "# Create a new RobustScaler object\n",
    "#scaler = RobustScaler()\n",
    "\n",
    "# Scale the predictors\n",
    "#X_scaled = scaler.fit_transform(X)\n",
    "\n",
    "# Remove outliers from the scaled predictors\n",
    "#Q1 = X_scaled.quantile(0.25)\n",
    "#Q3 = X_scaled.quantile(0.75)\n",
    "#IQR = Q3 - Q1\n",
    "#X_scaled_no_outliers = X_scaled[~((X_scaled < (Q1 - 1.5 * IQR)) | (X_scaled > (Q3 + 1.5 * IQR))).any(axis=1)]\n",
    "\n",
    "# Combine the scaled predictors and the unscaled target variable\n",
    "#scaled_data = pd.concat([pd.DataFrame(X_scaled_no_outliers), y], axis=1)\n",
    "\n",
    "# Print the scaled data\n",
    "#print(f'The scaled data with outliers removed is:\\n{scaled_data}')\n"
   ]
  },
  {
   "cell_type": "code",
   "execution_count": 11,
   "metadata": {},
   "outputs": [
    {
     "name": "stdout",
     "output_type": "stream",
     "text": [
      "The data without outliers is:\n",
      "        WEIGHT      SQFT  FINALDEST  LEASE  BEDROOMS  STATUS  REGION  \\\n",
      "3     0.263433 -0.333333        0.0    0.0       0.0     0.0     1.0   \n",
      "4     0.263433 -0.333333        0.0    0.0       0.0     0.0     1.0   \n",
      "5     0.263433 -0.800000        0.0    0.0       0.0     0.0     1.0   \n",
      "6     0.263433 -0.500000        0.0    0.0       0.0     0.0     1.0   \n",
      "9     0.263433 -0.500000        0.0    0.0       0.0     0.0     1.0   \n",
      "...        ...       ...        ...    ...       ...     ...     ...   \n",
      "4525       NaN       NaN        NaN    NaN       NaN     NaN     NaN   \n",
      "4526       NaN       NaN        NaN    NaN       NaN     NaN     NaN   \n",
      "4527       NaN       NaN        NaN    NaN       NaN     NaN     NaN   \n",
      "4528       NaN       NaN        NaN    NaN       NaN     NaN     NaN   \n",
      "4529       NaN       NaN        NaN    NaN       NaN     NaN     NaN   \n",
      "\n",
      "        TITLED  SECURED  LOCATION  PIERS    PRICE  \n",
      "3    -0.142857    0.000    -0.125   0.00  90000.0  \n",
      "4     0.000000    0.125    -0.250   0.25  90000.0  \n",
      "5    -0.142857    0.000    -0.250   0.25  76000.0  \n",
      "6     0.000000    0.000    -0.250   0.25  85000.0  \n",
      "9     0.000000    0.000     0.000   0.00  85000.0  \n",
      "...        ...      ...       ...    ...      ...  \n",
      "4525       NaN      NaN       NaN    NaN      9.0  \n",
      "4526       NaN      NaN       NaN    NaN      9.0  \n",
      "4527       NaN      NaN       NaN    NaN      9.0  \n",
      "4528       NaN      NaN       NaN    NaN      9.0  \n",
      "4529       NaN      NaN       NaN    NaN      9.0  \n",
      "\n",
      "[4530 rows x 12 columns]\n"
     ]
    }
   ],
   "source": [
    "from sklearn.preprocessing import RobustScaler\n",
    "\n",
    "# Split the data into predictors (X) and target (y)\n",
    "X = df.drop(columns=['PRICE'])\n",
    "y = df['PRICE']\n",
    "\n",
    "# Create a new RobustScaler object\n",
    "scaler = RobustScaler()\n",
    "\n",
    "# Scale the predictors\n",
    "X_scaled = scaler.fit_transform(X)\n",
    "\n",
    "# Convert the scaled predictors to a DataFrame\n",
    "X_scaled_df = pd.DataFrame(X_scaled, columns=X.columns)\n",
    "\n",
    "# Calculate the first and third quartiles\n",
    "Q1 = X_scaled_df.quantile(0.25)\n",
    "Q3 = X_scaled_df.quantile(0.75)\n",
    "\n",
    "# Calculate the interquartile range\n",
    "IQR = Q3 - Q1\n",
    "\n",
    "# Define the lower and upper bounds\n",
    "lower_bound = Q1 - 1.5 * IQR\n",
    "upper_bound = Q3 + 1.5 * IQR\n",
    "\n",
    "# Remove the outliers\n",
    "X_no_outliers = X_scaled_df[~((X_scaled_df < lower_bound) | (X_scaled_df > upper_bound)).any(axis=1)]\n",
    "\n",
    "# Combine the predictors and target variable\n",
    "data_no_outliers = pd.concat([X_no_outliers, y], axis=1)\n",
    "\n",
    "# Print the data without outliers\n",
    "print(f'The data without outliers is:\\n{data_no_outliers}')"
   ]
  },
  {
   "cell_type": "code",
   "execution_count": 12,
   "metadata": {},
   "outputs": [],
   "source": [
    "# Save the modified DataFrame back to the CSV file\n",
    "df.to_csv(\"puf2022_StandardScaler.csv\", index=False)  # Don't save the index"
   ]
  }
 ],
 "metadata": {
  "kernelspec": {
   "display_name": "Python 3",
   "language": "python",
   "name": "python3"
  },
  "language_info": {
   "codemirror_mode": {
    "name": "ipython",
    "version": 3
   },
   "file_extension": ".py",
   "mimetype": "text/x-python",
   "name": "python",
   "nbconvert_exporter": "python",
   "pygments_lexer": "ipython3",
   "version": "3.11.0"
  }
 },
 "nbformat": 4,
 "nbformat_minor": 2
}
